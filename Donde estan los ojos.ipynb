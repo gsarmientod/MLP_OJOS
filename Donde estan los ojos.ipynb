{
 "cells": [
  {
   "cell_type": "markdown",
   "source": [
    "# Regresión I: ¿Donde estan los ojos?\r\n",
    "\r\n",
    "Muchos de los sistemas de reconocimiento de personas por medio de imágenes utilizan la ubicación de puntos importantes en la cara, con el objetivo de identificar la ubicación del rostro. Algunos puntos importantes son los ojos, la nariz y la boca, a partir de ellos es posible definir las coordenadas entre las cuales se encuentra ubicada la cara de la persona. El profesor Santiago siempre ha tenido una gran fascinación por estos sistemas, y dado que sus estudiantes ya saben como trabajar con redes neuronales, él ha decidido que ellos realicen un sistemas de identificación de la ubicación de los ojos a partir de imágenes.\r\n",
    "\r\n",
    "Para la realización de este proyecto el estudiante deberá:\r\n",
    "\r\n",
    "1. Crear una base de datos con fotografías para probar (pueden bajarse una base de datos pública también) donde diferentes personas, y en cada una de estas se debe generar un elemento que identifique la ubicación de los ojos. Aquí debe tener en cuenta dos cosas:\r\n",
    "    * Tenga en cuenta que una red aprende con base en la información que le proporcionemos, así que al crear la base de datos tenga en cuenta todas las posibilidades que se imaginen de como podrían estar esas fotos.\r\n",
    "    * Si tenemos imágenes muy grandes esto requerirá de una red muy grande que puede tardar mucho tiempo en entrenar. Tenga en cuenta esto por si es necesario procesar las imágenes antes de ingresarlas a la red.   \r\n",
    "2. Definir las arquitecturas de red que debe probar (sólo MLP)\r\n",
    "3. Escoger la red que mejor se desempeñe.\r\n",
    "4. Evaluar el rendimiento de la red.\r\n",
    "\r\n",
    "\r\n",
    "Tenga en cuenta que todo el procedimiento debe ser lo mas amigable para probar. Es decir si el profesor Santiago quiere probar una foto, entonces él solo debería ingresar la foto en una función la cual se encargue de hacer todo el procesamiento y proporcionar como salida si la persona tiene o no tapabocas.\r\n",
    "\r\n",
    "Además el profesor quiere que contesten las siguientes preguntas:\r\n",
    "\r\n",
    "1. ¿Qué puede concluir del comportamiento de la red y los datos proporcionados?\r\n",
    "2. ¿Qué criterio utilizo para seleccionar la arquitectura de la red?\r\n",
    "3. ¿Tiene la red el comportamiento esperado?, sino, ¿A qué cree que se debe esto?\r\n",
    "4. ¿Qué le mejoraría al modelo que usted diseño?, ¿Cómo implementaría esas mejoras?\r\n",
    "\r\n",
    "Nota: Si quiere mejorar la red puede aplicar diversas técnicas de regularización cómo weight decay, dropout, etc.\r\n",
    "\r\n",
    "## Qué se debe entregar:\r\n",
    "\r\n",
    "Para la entrega del proyecto debe proporcionar:\r\n",
    "\r\n",
    "1. La base de datos generada.\r\n",
    "2. Un notebook de Jupyter donde presentan todo el pipeline para el entrenamiento de la red. Cada parte debe ser explicada. No pido en esta ocasión un informe aparte, pero debe explicar muy bien el proceso en el notebook (una introducción, métodos, resultados y discusión, y conclusiones).\r\n",
    "3. El notebook debe incluir una función que permita ingresar una muestra de entrada y se proporcione la salida, sin más pasos intermedios. Por lo tanto en esta función se debe tener en cuenta el acondicionamiento de los datos, antes de ser introducidos en la red neuronal para realizar las predicciones.\r\n",
    "4. El notebook debe incluir las respuestas a las preguntas planteadas."
   ],
   "metadata": {}
  },
  {
   "cell_type": "markdown",
   "source": [
    "### Solución"
   ],
   "metadata": {}
  },
  {
   "cell_type": "markdown",
   "source": [
    "prueba 2 commit"
   ],
   "metadata": {}
  },
  {
   "cell_type": "markdown",
   "source": [
    "prueba commit camila"
   ],
   "metadata": {}
  }
 ],
 "metadata": {
  "kernelspec": {
   "display_name": "Python 3",
   "language": "python",
   "name": "python3"
  },
  "language_info": {
   "codemirror_mode": {
    "name": "ipython",
    "version": 3
   },
   "file_extension": ".py",
   "mimetype": "text/x-python",
   "name": "python",
   "nbconvert_exporter": "python",
   "pygments_lexer": "ipython3",
   "version": "3.8.11"
  },
  "nbTranslate": {
   "displayLangs": [
    "*"
   ],
   "hotkey": "alt-t",
   "langInMainMenu": true,
   "sourceLang": "en",
   "targetLang": "fr",
   "useGoogleTranslate": true
  }
 },
 "nbformat": 4,
 "nbformat_minor": 2
}